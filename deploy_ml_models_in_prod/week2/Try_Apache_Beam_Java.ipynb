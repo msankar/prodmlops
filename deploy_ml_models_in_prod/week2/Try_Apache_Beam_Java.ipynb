{
  "nbformat": 4,
  "nbformat_minor": 0,
  "metadata": {
    "colab": {
      "name": "Try Apache Beam - Java",
      "provenance": [],
      "collapsed_sections": [],
      "toc_visible": true
    },
    "kernelspec": {
      "name": "python3",
      "display_name": "Python 3"
    }
  },
  "cells": [
    {
      "metadata": {
        "id": "lNKIMlEDZ_Vw"
      },
      "cell_type": "markdown",
      "source": [
        "# Try Apache Beam - Java\n",
        "\n",
        "In this notebook, we set up a Java development environment and work through a simple example using the [DirectRunner](https://beam.apache.org/documentation/runners/direct/). You can explore other runners with the [Beam Capatibility Matrix](https://beam.apache.org/documentation/runners/capability-matrix/).\n",
        "\n",
        "To navigate through different sections, use the table of contents. From **View**  drop-down list, select **Table of contents**.\n",
        "\n",
        "To run a code cell, you can click the **Run cell** button at the top left of the cell, or by select it and press **`Shift+Enter`**. Try modifying a code cell and re-running it to see what happens.\n",
        "\n",
        "To learn more about Colab, see [Welcome to Colaboratory!](https://colab.sandbox.google.com/notebooks/welcome.ipynb)."
      ]
    },
    {
      "metadata": {
        "id": "Fz6KSQ13_3Rr"
      },
      "cell_type": "markdown",
      "source": [
        "# Setup\n",
        "\n",
        "First, you need to set up your environment."
      ]
    },
    {
      "metadata": {
        "id": "GOOk81Jj_yUy",
        "outputId": "b642583c-4474-4712-ea17-a945b08d058a",
        "colab": {
          "base_uri": "https://localhost:8080/"
        }
      },
      "cell_type": "code",
      "source": [
        "# Run and print a shell command.\n",
        "def run(cmd):\n",
        "  print('>> {}'.format(cmd))\n",
        "  !{cmd}  # This is magic to run 'cmd' in the shell.\n",
        "  print('')\n",
        "\n",
        "# Copy the input file into the local filesystem.\n",
        "run('mkdir -p data')\n",
        "run('gsutil cp gs://dataflow-samples/shakespeare/kinglear.txt data/')"
      ],
      "execution_count": 1,
      "outputs": [
        {
          "output_type": "stream",
          "name": "stdout",
          "text": [
            ">> mkdir -p data\n",
            "\n",
            ">> gsutil cp gs://dataflow-samples/shakespeare/kinglear.txt data/\n",
            "Copying gs://dataflow-samples/shakespeare/kinglear.txt...\n",
            "/ [1 files][153.6 KiB/153.6 KiB]                                                \n",
            "Operation completed over 1 objects/153.6 KiB.                                    \n",
            "\n"
          ]
        }
      ]
    },
    {
      "metadata": {
        "id": "Hmto8JTSWwUK"
      },
      "cell_type": "markdown",
      "source": [
        "## Installing development tools\n",
        "\n",
        "Let's start by installing Java. We'll use the `default-jdk`, which uses [OpenJDK](https://openjdk.java.net/). This will take a while, so feel free to go for a walk or do some stretching.\n",
        "\n",
        "**Note:** Alternatively, you could install the propietary [Oracle JDK](https://www.oracle.com/technetwork/java/javase/downloads/index.html) instead."
      ]
    },
    {
      "metadata": {
        "id": "ONYtX0doWpFz",
        "outputId": "69d815e6-3e25-4f3f-ce73-63a9ee2cb87e",
        "colab": {
          "base_uri": "https://localhost:8080/"
        }
      },
      "cell_type": "code",
      "source": [
        "# Update and upgrade the system before installing anything else.\n",
        "run('apt-get update > /dev/null')\n",
        "run('apt-get upgrade > /dev/null')\n",
        "\n",
        "# Install the Java JDK.\n",
        "run('apt-get install default-jdk > /dev/null')\n",
        "\n",
        "# Check the Java version to see if everything is working well.\n",
        "run('javac -version')"
      ],
      "execution_count": 2,
      "outputs": [
        {
          "output_type": "stream",
          "name": "stdout",
          "text": [
            ">> apt-get update > /dev/null\n",
            "\n",
            ">> apt-get upgrade > /dev/null\n",
            "Extracting templates from packages: 100%\n",
            "\n",
            ">> apt-get install default-jdk > /dev/null\n",
            "\n",
            ">> javac -version\n",
            "javac 11.0.13\n",
            "\n"
          ]
        }
      ]
    },
    {
      "metadata": {
        "id": "Wab7H4IZW9xZ"
      },
      "cell_type": "markdown",
      "source": [
        "Now, let's install [Gradle](https://gradle.org/), which we'll need to automate the build and running processes for our application. \n",
        "\n",
        "**Note:** Alternatively, you could install and configure [Maven](https://maven.apache.org/) instead."
      ]
    },
    {
      "metadata": {
        "id": "xS3Oeu3DW7vy",
        "outputId": "c8d1e667-4124-4bc9-d4a4-e8e9b0de3bc0",
        "colab": {
          "base_uri": "https://localhost:8080/"
        }
      },
      "cell_type": "code",
      "source": [
        "import os\n",
        "\n",
        "# Download the gradle source.\n",
        "gradle_version = 'gradle-5.0'\n",
        "gradle_path = f\"/opt/{gradle_version}\"\n",
        "if not os.path.exists(gradle_path):\n",
        "  run(f\"wget -q -nc -O gradle.zip https://services.gradle.org/distributions/{gradle_version}-bin.zip\")\n",
        "  run('unzip -q -d /opt gradle.zip')\n",
        "  run('rm -f gradle.zip')\n",
        "\n",
        "# We're choosing to use the absolute path instead of adding it to the $PATH environment variable.\n",
        "def gradle(args):\n",
        "  run(f\"{gradle_path}/bin/gradle --console=plain {args}\")\n",
        "\n",
        "gradle('-v')"
      ],
      "execution_count": 3,
      "outputs": [
        {
          "output_type": "stream",
          "name": "stdout",
          "text": [
            ">> wget -q -nc -O gradle.zip https://services.gradle.org/distributions/gradle-5.0-bin.zip\n",
            "\n",
            ">> unzip -q -d /opt gradle.zip\n",
            "\n",
            ">> rm -f gradle.zip\n",
            "\n",
            ">> /opt/gradle-5.0/bin/gradle --console=plain -v\n",
            "\u001b[m\n",
            "Welcome to Gradle 5.0!\n",
            "\n",
            "Here are the highlights of this release:\n",
            " - Kotlin DSL 1.0\n",
            " - Task timeouts\n",
            " - Dependency alignment aka BOM support\n",
            " - Interactive `gradle init`\n",
            "\n",
            "For more details see https://docs.gradle.org/5.0/release-notes.html\n",
            "\n",
            "\n",
            "------------------------------------------------------------\n",
            "Gradle 5.0\n",
            "------------------------------------------------------------\n",
            "\n",
            "Build time:   2018-11-26 11:48:43 UTC\n",
            "Revision:     7fc6e5abf2fc5fe0824aec8a0f5462664dbcd987\n",
            "\n",
            "Kotlin DSL:   1.0.4\n",
            "Kotlin:       1.3.10\n",
            "Groovy:       2.5.4\n",
            "Ant:          Apache Ant(TM) version 1.9.13 compiled on July 10 2018\n",
            "JVM:          11.0.13 (Ubuntu 11.0.13+8-Ubuntu-0ubuntu1.18.04)\n",
            "OS:           Linux 5.4.144+ amd64\n",
            "\n",
            "\u001b[m\n"
          ]
        }
      ]
    },
    {
      "metadata": {
        "id": "YTkkapX9KVhA"
      },
      "cell_type": "markdown",
      "source": [
        "## build.gradle\n",
        "\n",
        "We'll also need a [`build.gradle`](https://guides.gradle.org/creating-new-gradle-builds/) file which will allow us to invoke some useful commands."
      ]
    },
    {
      "metadata": {
        "id": "oUqfqWyMuIfR",
        "outputId": "53a6ce14-09e9-4ff3-e4b2-8ce65f381585",
        "colab": {
          "base_uri": "https://localhost:8080/"
        }
      },
      "cell_type": "code",
      "source": [
        "%%writefile build.gradle\n",
        "\n",
        "plugins {\n",
        "  // id 'idea'     // Uncomment for IntelliJ IDE\n",
        "  // id 'eclipse'  // Uncomment for Eclipse IDE\n",
        "\n",
        "  // Apply java plugin and make it a runnable application.\n",
        "  id 'java'\n",
        "  id 'application'\n",
        "\n",
        "  // 'shadow' allows us to embed all the dependencies into a fat jar.\n",
        "  id 'com.github.johnrengelman.shadow' version '4.0.3'\n",
        "}\n",
        "\n",
        "// This is the path of the main class, stored within ./src/main/java/\n",
        "mainClassName = 'samples.quickstart.WordCount'\n",
        "\n",
        "// Declare the sources from which to fetch dependencies.\n",
        "repositories {\n",
        "  mavenCentral()\n",
        "}\n",
        "\n",
        "// Java version compatibility.\n",
        "sourceCompatibility = 1.8\n",
        "targetCompatibility = 1.8\n",
        "\n",
        "// Use the latest Apache Beam major version 2.\n",
        "// You can also lock into a minor version like '2.9.+'.\n",
        "ext.apacheBeamVersion = '2.+'\n",
        "\n",
        "// Declare the dependencies of the project.\n",
        "dependencies {\n",
        "  shadow \"org.apache.beam:beam-sdks-java-core:$apacheBeamVersion\"\n",
        "\n",
        "  runtime \"org.apache.beam:beam-runners-direct-java:$apacheBeamVersion\"\n",
        "  runtime \"org.slf4j:slf4j-api:1.+\"\n",
        "  runtime \"org.slf4j:slf4j-jdk14:1.+\"\n",
        "\n",
        "  testCompile \"junit:junit:4.+\"\n",
        "}\n",
        "\n",
        "// Configure 'shadowJar' instead of 'jar' to set up the fat jar.\n",
        "shadowJar {\n",
        "  baseName = 'WordCount'  // Name of the fat jar file.\n",
        "  classifier = null       // Set to null, otherwise 'shadow' appends a '-all' to the jar file name.\n",
        "  manifest {\n",
        "    attributes('Main-Class': mainClassName)  // Specify where the main class resides.\n",
        "  }\n",
        "}"
      ],
      "execution_count": 4,
      "outputs": [
        {
          "output_type": "stream",
          "name": "stdout",
          "text": [
            "Writing build.gradle\n"
          ]
        }
      ]
    },
    {
      "metadata": {
        "id": "cwZcqmFgoLJ9"
      },
      "cell_type": "markdown",
      "source": [
        "## Creating the directory structure\n",
        "\n",
        "Java and Gradle expect a specific [directory structure](https://docs.gradle.org/current/userguide/organizing_gradle_projects.html). This helps organize large projects into a standard structure.\n",
        "\n",
        "For now, we only need a place where our quickstart code will reside. That has to go within `./src/main/java/`."
      ]
    },
    {
      "metadata": {
        "id": "Mr1KTQznbd9F",
        "outputId": "0f522e0f-6d5e-48c3-9ed3-919c8ec9f0bc",
        "colab": {
          "base_uri": "https://localhost:8080/"
        }
      },
      "cell_type": "code",
      "source": [
        "run('mkdir -p src/main/java/samples/quickstart')"
      ],
      "execution_count": 5,
      "outputs": [
        {
          "output_type": "stream",
          "name": "stdout",
          "text": [
            ">> mkdir -p src/main/java/samples/quickstart\n",
            "\n"
          ]
        }
      ]
    },
    {
      "metadata": {
        "id": "cPvvFB19uXNw"
      },
      "cell_type": "markdown",
      "source": [
        "# Minimal word count\n",
        "\n",
        "The following example is the \"Hello, World!\" of data processing, a basic implementation of word count. We're creating a simple data processing pipeline that reads a text file and counts the number of occurrences of every word.\n",
        "\n",
        "There are many scenarios where all the data does not fit in memory. Notice that the outputs of the pipeline go to the file system, which allows for large processing jobs in distributed environments."
      ]
    },
    {
      "metadata": {
        "id": "Fl3iUat7KYIE"
      },
      "cell_type": "markdown",
      "source": [
        "## WordCount.java"
      ]
    },
    {
      "metadata": {
        "id": "5l3S2mjMBKhT",
        "outputId": "73d51de6-33ae-42fe-ae0b-b74843ae0f1b",
        "colab": {
          "base_uri": "https://localhost:8080/"
        }
      },
      "cell_type": "code",
      "source": [
        "%%writefile src/main/java/samples/quickstart/WordCount.java\n",
        "\n",
        "package samples.quickstart;\n",
        "\n",
        "import org.apache.beam.sdk.Pipeline;\n",
        "import org.apache.beam.sdk.io.TextIO;\n",
        "import org.apache.beam.sdk.options.PipelineOptions;\n",
        "import org.apache.beam.sdk.options.PipelineOptionsFactory;\n",
        "import org.apache.beam.sdk.transforms.Count;\n",
        "import org.apache.beam.sdk.transforms.Filter;\n",
        "import org.apache.beam.sdk.transforms.FlatMapElements;\n",
        "import org.apache.beam.sdk.transforms.MapElements;\n",
        "import org.apache.beam.sdk.values.KV;\n",
        "import org.apache.beam.sdk.values.TypeDescriptors;\n",
        "\n",
        "import java.util.Arrays;\n",
        "\n",
        "public class WordCount {\n",
        "  public static void main(String[] args) {\n",
        "    String inputsDir = \"data/*\";\n",
        "    String outputsPrefix = \"outputs/part\";\n",
        "\n",
        "    PipelineOptions options = PipelineOptionsFactory.fromArgs(args).create();\n",
        "    Pipeline pipeline = Pipeline.create(options);\n",
        "    pipeline\n",
        "        .apply(\"Read lines\", TextIO.read().from(inputsDir))\n",
        "        .apply(\"Find words\", FlatMapElements.into(TypeDescriptors.strings())\n",
        "            .via((String line) -> Arrays.asList(line.split(\"[^\\\\p{L}]+\"))))\n",
        "        .apply(\"Filter empty words\", Filter.by((String word) -> !word.isEmpty()))\n",
        "        .apply(\"Count words\", Count.perElement())\n",
        "        .apply(\"Write results\", MapElements.into(TypeDescriptors.strings())\n",
        "            .via((KV<String, Long> wordCount) ->\n",
        "                  wordCount.getKey() + \": \" + wordCount.getValue()))\n",
        "        .apply(TextIO.write().to(outputsPrefix));\n",
        "    pipeline.run();\n",
        "  }\n",
        "}"
      ],
      "execution_count": 6,
      "outputs": [
        {
          "output_type": "stream",
          "name": "stdout",
          "text": [
            "Writing src/main/java/samples/quickstart/WordCount.java\n"
          ]
        }
      ]
    },
    {
      "metadata": {
        "id": "yoO4xHnaKiz9"
      },
      "cell_type": "markdown",
      "source": [
        "## Build and run"
      ]
    },
    {
      "metadata": {
        "id": "giJMbbcq2OPu"
      },
      "cell_type": "markdown",
      "source": [
        "Let's first check how the final file system structure looks like. These are all the files required to build and run our application.\n",
        "\n",
        "* `build.gradle` - build configuration for Gradle\n",
        "* `src/main/java/samples/quickstart/WordCount.java` - application source code\n",
        "* `data/kinglear.txt` - input data, this could be any file or files\n",
        "\n",
        "We are now ready to build the application using `gradle build`."
      ]
    },
    {
      "metadata": {
        "id": "urmCmtG08F-0",
        "outputId": "bca7de7d-e191-4807-dfb2-a1da5eeb2027",
        "colab": {
          "base_uri": "https://localhost:8080/"
        }
      },
      "cell_type": "code",
      "source": [
        "# Build the project.\n",
        "gradle('build')\n",
        "\n",
        "# Check the generated build files.\n",
        "run('ls -lh build/libs/')"
      ],
      "execution_count": 7,
      "outputs": [
        {
          "output_type": "stream",
          "name": "stdout",
          "text": [
            ">> /opt/gradle-5.0/bin/gradle --console=plain build\n",
            "\u001b[mStarting a Gradle Daemon (subsequent builds will be faster)\n",
            "> Task :compileJava\n",
            "> Task :processResources NO-SOURCE\n",
            "> Task :classes\n",
            "> Task :jar\n",
            "> Task :startScripts\n",
            "> Task :distTar\n",
            "> Task :distZip\n",
            "> Task :shadowJar\n",
            "> Task :startShadowScripts\n",
            "> Task :shadowDistTar\n",
            "> Task :shadowDistZip\n",
            "> Task :assemble\n",
            "> Task :compileTestJava NO-SOURCE\n",
            "> Task :processTestResources NO-SOURCE\n",
            "> Task :testClasses UP-TO-DATE\n",
            "> Task :test NO-SOURCE\n",
            "> Task :check UP-TO-DATE\n",
            "> Task :build\n",
            "\n",
            "BUILD SUCCESSFUL in 58s\n",
            "9 actionable tasks: 9 executed\n",
            "\u001b[m\n",
            ">> ls -lh build/libs/\n",
            "total 43M\n",
            "-rw-r--r-- 1 root root 2.9K Jan 15 05:28 content.jar\n",
            "-rw-r--r-- 1 root root  43M Jan 15 05:28 WordCount.jar\n",
            "\n"
          ]
        }
      ]
    },
    {
      "metadata": {
        "id": "LrRFNZHD8dtu"
      },
      "cell_type": "markdown",
      "source": [
        "There are two files generated:\n",
        "* The `content.jar` file, the application generated from the regular `build` command. It's only a few kilobytes in size.\n",
        "* The `WordCount.jar` file, with the `baseName` we specified in the `shadowJar` section of the `gradle.build` file. It's a several megabytes in size, with all the required libraries it needs to run embedded in it.\n",
        "\n",
        "The file we're actually interested in is the fat JAR file `WordCount.jar`. To run the fat JAR, we'll use the `gradle runShadow` command."
      ]
    },
    {
      "metadata": {
        "id": "CgTXBdTsBn1F",
        "outputId": "6e7ab56d-cdf8-43ae-9fd4-443b362961f7",
        "colab": {
          "base_uri": "https://localhost:8080/"
        }
      },
      "cell_type": "code",
      "source": [
        "# Run the shadow (fat jar) build.\n",
        "gradle('runShadow')\n",
        "\n",
        "# Sample the first 20 results, remember there are no ordering guarantees.\n",
        "run('head -n 20 outputs/part-00000-of-*')"
      ],
      "execution_count": 8,
      "outputs": [
        {
          "output_type": "stream",
          "name": "stdout",
          "text": [
            ">> /opt/gradle-5.0/bin/gradle --console=plain runShadow\n",
            "\u001b[m> Task :compileJava UP-TO-DATE\n",
            "> Task :processResources NO-SOURCE\n",
            "> Task :classes UP-TO-DATE\n",
            "> Task :shadowJar UP-TO-DATE\n",
            "> Task :startShadowScripts UP-TO-DATE\n",
            "> Task :installShadowDist\n",
            "\n",
            "> Task :runShadow\n",
            "Jan 15, 2022 5:29:17 AM org.apache.beam.sdk.io.FileBasedSource getEstimatedSizeBytes\n",
            "INFO: Filepattern data/* matched 1 files with total size 157283\n",
            "Jan 15, 2022 5:29:17 AM org.apache.beam.sdk.io.FileBasedSource split\n",
            "INFO: Splitting filepattern data/* into bundles of size 52427 took 1 ms and produced 1 files and 3 bundles\n",
            "Jan 15, 2022 5:31:46 AM org.apache.beam.sdk.io.WriteFiles$WriteShardsIntoTempFilesFn processElement\n",
            "INFO: Opening writer 690090fc-a477-4a07-96dc-4b40c8d029f7 for window org.apache.beam.sdk.transforms.windowing.GlobalWindow@68878f6d pane PaneInfo{isFirst=true, isLast=true, timing=ON_TIME, index=0, onTimeIndex=0} destination null\n",
            "Jan 15, 2022 5:31:46 AM org.apache.beam.sdk.io.WriteFiles$WriteShardsIntoTempFilesFn processElement\n",
            "INFO: Opening writer b311f66f-b9eb-46f4-b8c4-566e8f4f89c2 for window org.apache.beam.sdk.transforms.windowing.GlobalWindow@68878f6d pane PaneInfo{isFirst=true, isLast=true, timing=ON_TIME, index=0, onTimeIndex=0} destination null\n",
            "Jan 15, 2022 5:31:46 AM org.apache.beam.sdk.io.WriteFiles$WriteShardsIntoTempFilesFn processElement\n",
            "INFO: Opening writer 0ea71858-7a2e-4b2d-964b-014fbeaedf26 for window org.apache.beam.sdk.transforms.windowing.GlobalWindow@68878f6d pane PaneInfo{isFirst=true, isLast=true, timing=ON_TIME, index=0, onTimeIndex=0} destination null\n",
            "Jan 15, 2022 5:31:46 AM org.apache.beam.sdk.io.FileBasedSink$Writer close\n",
            "INFO: Successfully wrote temporary file /content/outputs/.temp-beam-827a9df4-0e2e-472e-86b7-33d50f068352/f9db9e06b311f66f-b9eb-46f4-b8c4-566e8f4f89c2\n",
            "Jan 15, 2022 5:31:46 AM org.apache.beam.sdk.io.FileBasedSink$Writer close\n",
            "INFO: Successfully wrote temporary file /content/outputs/.temp-beam-827a9df4-0e2e-472e-86b7-33d50f068352/8f2351ff690090fc-a477-4a07-96dc-4b40c8d029f7\n",
            "Jan 15, 2022 5:31:46 AM org.apache.beam.sdk.io.WriteFiles$WriteShardsIntoTempFilesFn processElement\n",
            "INFO: Opening writer a391ed9b-14ab-494e-bd9a-15a0041d17d1 for window org.apache.beam.sdk.transforms.windowing.GlobalWindow@68878f6d pane PaneInfo{isFirst=true, isLast=true, timing=ON_TIME, index=0, onTimeIndex=0} destination null\n",
            "Jan 15, 2022 5:31:46 AM org.apache.beam.sdk.io.FileBasedSink$Writer close\n",
            "INFO: Successfully wrote temporary file /content/outputs/.temp-beam-827a9df4-0e2e-472e-86b7-33d50f068352/6c985a6d0ea71858-7a2e-4b2d-964b-014fbeaedf26\n",
            "Jan 15, 2022 5:31:46 AM org.apache.beam.sdk.io.FileBasedSink$Writer close\n",
            "INFO: Successfully wrote temporary file /content/outputs/.temp-beam-827a9df4-0e2e-472e-86b7-33d50f068352/fc9c5b77a391ed9b-14ab-494e-bd9a-15a0041d17d1\n",
            "Jan 15, 2022 5:31:46 AM org.apache.beam.sdk.io.WriteFiles$FinalizeTempFileBundles$FinalizeFn process\n",
            "INFO: Finalizing 4 file results\n",
            "Jan 15, 2022 5:31:46 AM org.apache.beam.sdk.io.FileBasedSink$WriteOperation createMissingEmptyShards\n",
            "INFO: Finalizing for destination null num shards 4.\n",
            "Jan 15, 2022 5:31:46 AM org.apache.beam.sdk.io.FileBasedSink$WriteOperation moveToOutputFiles\n",
            "INFO: Will copy temporary file FileResult{tempFilename=/content/outputs/.temp-beam-827a9df4-0e2e-472e-86b7-33d50f068352/8f2351ff690090fc-a477-4a07-96dc-4b40c8d029f7, shard=2, window=org.apache.beam.sdk.transforms.windowing.GlobalWindow@68878f6d, paneInfo=PaneInfo{isFirst=true, isLast=true, timing=ON_TIME, index=0, onTimeIndex=0}} to final location /content/outputs/part-00002-of-00004\n",
            "Jan 15, 2022 5:31:46 AM org.apache.beam.sdk.io.FileBasedSink$WriteOperation moveToOutputFiles\n",
            "INFO: Will copy temporary file FileResult{tempFilename=/content/outputs/.temp-beam-827a9df4-0e2e-472e-86b7-33d50f068352/f9db9e06b311f66f-b9eb-46f4-b8c4-566e8f4f89c2, shard=1, window=org.apache.beam.sdk.transforms.windowing.GlobalWindow@68878f6d, paneInfo=PaneInfo{isFirst=true, isLast=true, timing=ON_TIME, index=0, onTimeIndex=0}} to final location /content/outputs/part-00001-of-00004\n",
            "Jan 15, 2022 5:31:46 AM org.apache.beam.sdk.io.FileBasedSink$WriteOperation moveToOutputFiles\n",
            "INFO: Will copy temporary file FileResult{tempFilename=/content/outputs/.temp-beam-827a9df4-0e2e-472e-86b7-33d50f068352/fc9c5b77a391ed9b-14ab-494e-bd9a-15a0041d17d1, shard=3, window=org.apache.beam.sdk.transforms.windowing.GlobalWindow@68878f6d, paneInfo=PaneInfo{isFirst=true, isLast=true, timing=ON_TIME, index=0, onTimeIndex=0}} to final location /content/outputs/part-00003-of-00004\n",
            "Jan 15, 2022 5:31:46 AM org.apache.beam.sdk.io.FileBasedSink$WriteOperation moveToOutputFiles\n",
            "INFO: Will copy temporary file FileResult{tempFilename=/content/outputs/.temp-beam-827a9df4-0e2e-472e-86b7-33d50f068352/6c985a6d0ea71858-7a2e-4b2d-964b-014fbeaedf26, shard=0, window=org.apache.beam.sdk.transforms.windowing.GlobalWindow@68878f6d, paneInfo=PaneInfo{isFirst=true, isLast=true, timing=ON_TIME, index=0, onTimeIndex=0}} to final location /content/outputs/part-00000-of-00004\n",
            "Jan 15, 2022 5:31:46 AM org.apache.beam.sdk.io.FileBasedSink$WriteOperation removeTemporaryFiles\n",
            "WARNING: Failed to match temporary files under: [/content/outputs/.temp-beam-827a9df4-0e2e-472e-86b7-33d50f068352/].\n",
            "\n",
            "BUILD SUCCESSFUL in 2m 35s\n",
            "5 actionable tasks: 2 executed, 3 up-to-date\n",
            "\u001b[m\n",
            ">> head -n 20 outputs/part-00000-of-*\n",
            "Like: 3\n",
            "curiosity: 3\n",
            "quick: 2\n",
            "perceived: 3\n",
            "Send: 1\n",
            "gasted: 1\n",
            "Bad: 1\n",
            "tent: 4\n",
            "Cost: 1\n",
            "Wilt: 1\n",
            "gratitude: 1\n",
            "fiery: 2\n",
            "fellowship: 1\n",
            "bind: 2\n",
            "ease: 1\n",
            "finds: 4\n",
            "whereto: 1\n",
            "terrors: 1\n",
            "brothels: 1\n",
            "allay: 1\n",
            "\n"
          ]
        }
      ]
    },
    {
      "metadata": {
        "id": "T_oqlIM55MzM"
      },
      "cell_type": "markdown",
      "source": [
        "## Distributing your application\n",
        "\n",
        "We can run our fat JAR file as long as we have a Java Runtime Environment installed.\n",
        "\n",
        "To distribute, we copy the fat JAR file and run it with `java -jar`."
      ]
    },
    {
      "metadata": {
        "id": "b3YSRjYnavpd",
        "outputId": "518514f5-3f1b-4df1-8604-41577ff26bed",
        "colab": {
          "base_uri": "https://localhost:8080/"
        }
      },
      "cell_type": "code",
      "source": [
        "# You can now distribute and run your Java application as a standalone jar file.\n",
        "run('cp build/libs/WordCount.jar .')\n",
        "run('java -jar WordCount.jar')\n",
        "\n",
        "# Sample the first 20 results, remember there are no ordering guarantees.\n",
        "run('head -n 20 outputs/part-00000-of-*')"
      ],
      "execution_count": 9,
      "outputs": [
        {
          "output_type": "stream",
          "name": "stdout",
          "text": [
            ">> cp build/libs/WordCount.jar .\n",
            "\n",
            ">> java -jar WordCount.jar\n",
            "Jan 15, 2022 5:31:59 AM org.apache.beam.sdk.io.FileBasedSource getEstimatedSizeBytes\n",
            "INFO: Filepattern data/* matched 1 files with total size 157283\n",
            "Jan 15, 2022 5:31:59 AM org.apache.beam.sdk.io.FileBasedSource split\n",
            "INFO: Splitting filepattern data/* into bundles of size 52427 took 1 ms and produced 1 files and 3 bundles\n",
            "Jan 15, 2022 5:34:26 AM org.apache.beam.sdk.io.WriteFiles$WriteShardsIntoTempFilesFn processElement\n",
            "INFO: Opening writer 10b1228b-3790-4d13-a35e-a508daa60d24 for window org.apache.beam.sdk.transforms.windowing.GlobalWindow@446a1e84 pane PaneInfo{isFirst=true, isLast=true, timing=ON_TIME, index=0, onTimeIndex=0} destination null\n",
            "Jan 15, 2022 5:34:26 AM org.apache.beam.sdk.io.WriteFiles$WriteShardsIntoTempFilesFn processElement\n",
            "INFO: Opening writer 05458359-11c1-45b1-97f8-f532a1fac7d2 for window org.apache.beam.sdk.transforms.windowing.GlobalWindow@446a1e84 pane PaneInfo{isFirst=true, isLast=true, timing=ON_TIME, index=0, onTimeIndex=0} destination null\n",
            "Jan 15, 2022 5:34:26 AM org.apache.beam.sdk.io.WriteFiles$WriteShardsIntoTempFilesFn processElement\n",
            "INFO: Opening writer 916072a4-13a2-42f0-9c72-942b3be8a54b for window org.apache.beam.sdk.transforms.windowing.GlobalWindow@446a1e84 pane PaneInfo{isFirst=true, isLast=true, timing=ON_TIME, index=0, onTimeIndex=0} destination null\n",
            "Jan 15, 2022 5:34:27 AM org.apache.beam.sdk.io.FileBasedSink$Writer close\n",
            "INFO: Successfully wrote temporary file /content/outputs/.temp-beam-f6dd3d97-e961-4db8-b010-b5e2884e2968/b11f3fd205458359-11c1-45b1-97f8-f532a1fac7d2\n",
            "Jan 15, 2022 5:34:27 AM org.apache.beam.sdk.io.FileBasedSink$Writer close\n",
            "INFO: Successfully wrote temporary file /content/outputs/.temp-beam-f6dd3d97-e961-4db8-b010-b5e2884e2968/db1001df916072a4-13a2-42f0-9c72-942b3be8a54b\n",
            "Jan 15, 2022 5:34:27 AM org.apache.beam.sdk.io.FileBasedSink$Writer close\n",
            "INFO: Successfully wrote temporary file /content/outputs/.temp-beam-f6dd3d97-e961-4db8-b010-b5e2884e2968/0bd4543110b1228b-3790-4d13-a35e-a508daa60d24\n",
            "Jan 15, 2022 5:34:27 AM org.apache.beam.sdk.io.WriteFiles$FinalizeTempFileBundles$FinalizeFn process\n",
            "INFO: Finalizing 3 file results\n",
            "Jan 15, 2022 5:34:27 AM org.apache.beam.sdk.io.FileBasedSink$WriteOperation createMissingEmptyShards\n",
            "INFO: Finalizing for destination null num shards 3.\n",
            "Jan 15, 2022 5:34:27 AM org.apache.beam.sdk.io.FileBasedSink$WriteOperation moveToOutputFiles\n",
            "INFO: Will copy temporary file FileResult{tempFilename=/content/outputs/.temp-beam-f6dd3d97-e961-4db8-b010-b5e2884e2968/b11f3fd205458359-11c1-45b1-97f8-f532a1fac7d2, shard=0, window=org.apache.beam.sdk.transforms.windowing.GlobalWindow@446a1e84, paneInfo=PaneInfo{isFirst=true, isLast=true, timing=ON_TIME, index=0, onTimeIndex=0}} to final location /content/outputs/part-00000-of-00003\n",
            "Jan 15, 2022 5:34:27 AM org.apache.beam.sdk.io.FileBasedSink$WriteOperation moveToOutputFiles\n",
            "INFO: Will copy temporary file FileResult{tempFilename=/content/outputs/.temp-beam-f6dd3d97-e961-4db8-b010-b5e2884e2968/0bd4543110b1228b-3790-4d13-a35e-a508daa60d24, shard=2, window=org.apache.beam.sdk.transforms.windowing.GlobalWindow@446a1e84, paneInfo=PaneInfo{isFirst=true, isLast=true, timing=ON_TIME, index=0, onTimeIndex=0}} to final location /content/outputs/part-00002-of-00003\n",
            "Jan 15, 2022 5:34:27 AM org.apache.beam.sdk.io.FileBasedSink$WriteOperation moveToOutputFiles\n",
            "INFO: Will copy temporary file FileResult{tempFilename=/content/outputs/.temp-beam-f6dd3d97-e961-4db8-b010-b5e2884e2968/db1001df916072a4-13a2-42f0-9c72-942b3be8a54b, shard=1, window=org.apache.beam.sdk.transforms.windowing.GlobalWindow@446a1e84, paneInfo=PaneInfo{isFirst=true, isLast=true, timing=ON_TIME, index=0, onTimeIndex=0}} to final location /content/outputs/part-00001-of-00003\n",
            "Jan 15, 2022 5:34:27 AM org.apache.beam.sdk.io.FileBasedSink$WriteOperation removeTemporaryFiles\n",
            "WARNING: Failed to match temporary files under: [/content/outputs/.temp-beam-f6dd3d97-e961-4db8-b010-b5e2884e2968/].\n",
            "\n",
            ">> head -n 20 outputs/part-00000-of-*\n",
            "==> outputs/part-00000-of-00003 <==\n",
            "raggedness: 1\n",
            "riotous: 4\n",
            "elements: 1\n",
            "tremble: 1\n",
            "Such: 5\n",
            "sith: 2\n",
            "villain: 20\n",
            "Arraign: 1\n",
            "natures: 1\n",
            "justice: 7\n",
            "miracles: 1\n",
            "favours: 1\n",
            "smooth: 1\n",
            "goes: 9\n",
            "soothe: 1\n",
            "bourn: 2\n",
            "tune: 1\n",
            "covering: 1\n",
            "clothes: 2\n",
            "plight: 2\n",
            "\n",
            "==> outputs/part-00000-of-00004 <==\n",
            "Like: 3\n",
            "curiosity: 3\n",
            "quick: 2\n",
            "perceived: 3\n",
            "Send: 1\n",
            "gasted: 1\n",
            "Bad: 1\n",
            "tent: 4\n",
            "Cost: 1\n",
            "Wilt: 1\n",
            "gratitude: 1\n",
            "fiery: 2\n",
            "fellowship: 1\n",
            "bind: 2\n",
            "ease: 1\n",
            "finds: 4\n",
            "whereto: 1\n",
            "terrors: 1\n",
            "brothels: 1\n",
            "allay: 1\n",
            "\n"
          ]
        }
      ]
    },
    {
      "metadata": {
        "id": "k-HubCrk-h_G"
      },
      "cell_type": "markdown",
      "source": [
        "# Word count with comments\n",
        "\n",
        "Below is mostly the same code as above, but with comments explaining every line in more detail."
      ]
    },
    {
      "metadata": {
        "id": "wvnWyYklCXer",
        "outputId": "275507a3-05e9-44ca-8625-d745154d5720",
        "colab": {
          "base_uri": "https://localhost:8080/",
          "height": 34
        }
      },
      "cell_type": "code",
      "source": [
        "%%writefile src/main/java/samples/quickstart/WordCount.java\n",
        "\n",
        "package samples.quickstart;\n",
        "\n",
        "import org.apache.beam.sdk.Pipeline;\n",
        "import org.apache.beam.sdk.io.TextIO;\n",
        "import org.apache.beam.sdk.options.PipelineOptions;\n",
        "import org.apache.beam.sdk.options.PipelineOptionsFactory;\n",
        "import org.apache.beam.sdk.transforms.Count;\n",
        "import org.apache.beam.sdk.transforms.Filter;\n",
        "import org.apache.beam.sdk.transforms.FlatMapElements;\n",
        "import org.apache.beam.sdk.transforms.MapElements;\n",
        "import org.apache.beam.sdk.values.KV;\n",
        "import org.apache.beam.sdk.values.PCollection;\n",
        "import org.apache.beam.sdk.values.TypeDescriptors;\n",
        "\n",
        "import java.util.Arrays;\n",
        "\n",
        "public class WordCount {\n",
        "  public static void main(String[] args) {\n",
        "    String inputsDir = \"data/*\";\n",
        "    String outputsPrefix = \"outputs/part\";\n",
        "\n",
        "    PipelineOptions options = PipelineOptionsFactory.fromArgs(args).create();\n",
        "    Pipeline pipeline = Pipeline.create(options);\n",
        "\n",
        "    // Store the word counts in a PCollection.\n",
        "    // Each element is a KeyValue of (word, count) of types KV<String, Long>.\n",
        "    PCollection<KV<String, Long>> wordCounts =\n",
        "        // The input PCollection is an empty pipeline.\n",
        "        pipeline\n",
        "\n",
        "        // Read lines from a text file.\n",
        "        .apply(\"Read lines\", TextIO.read().from(inputsDir))\n",
        "        // Element type: String - text line\n",
        "\n",
        "        // Use a regular expression to iterate over all words in the line.\n",
        "        // FlatMapElements will yield an element for every element in an iterable.\n",
        "        .apply(\"Find words\", FlatMapElements.into(TypeDescriptors.strings())\n",
        "            .via((String line) -> Arrays.asList(line.split(\"[^\\\\p{L}]+\"))))\n",
        "        // Element type: String - word\n",
        "\n",
        "        // Keep only non-empty words.\n",
        "        .apply(\"Filter empty words\", Filter.by((String word) -> !word.isEmpty()))\n",
        "        // Element type: String - word\n",
        "\n",
        "        // Count each unique word.\n",
        "        .apply(\"Count words\", Count.perElement());\n",
        "        // Element type: KV<String, Long> - key: word, value: counts\n",
        "\n",
        "    // We can process a PCollection through other pipelines, too.\n",
        "    // The input PCollection are the wordCounts from the previous step.\n",
        "    wordCounts\n",
        "        // Format the results into a string so we can write them to a file.\n",
        "        .apply(\"Write results\", MapElements.into(TypeDescriptors.strings())\n",
        "            .via((KV<String, Long> wordCount) ->\n",
        "                  wordCount.getKey() + \": \" + wordCount.getValue()))\n",
        "        // Element type: str - text line\n",
        "\n",
        "        // Finally, write the results to a file.\n",
        "        .apply(TextIO.write().to(outputsPrefix));\n",
        "\n",
        "    // We have to explicitly run the pipeline, otherwise it's only a definition.\n",
        "    pipeline.run();\n",
        "  }\n",
        "}"
      ],
      "execution_count": null,
      "outputs": [
        {
          "output_type": "stream",
          "text": [
            "Overwriting src/main/java/samples/quickstart/WordCount.java\n"
          ],
          "name": "stdout"
        }
      ]
    },
    {
      "metadata": {
        "id": "wKAJp7ON4Vpp",
        "outputId": "9a4c7a72-70a1-4d31-89c1-cf7fb8fcdf53",
        "colab": {
          "base_uri": "https://localhost:8080/",
          "height": 2060
        }
      },
      "cell_type": "code",
      "source": [
        "# Build and run the project. The 'runShadow' task implicitly does a 'build'.\n",
        "gradle('runShadow')\n",
        "\n",
        "# Sample the first 20 results, remember there are no ordering guarantees.\n",
        "run('head -n 20 outputs/part-00000-of-*')"
      ],
      "execution_count": null,
      "outputs": [
        {
          "output_type": "stream",
          "text": [
            ">> /opt/gradle-5.0/bin/gradle --console=plain runShadow\n",
            "\u001b[m> Task :compileJava\n",
            "> Task :processResources NO-SOURCE\n",
            "> Task :classes\n",
            "> Task :shadowJar\n",
            "> Task :startShadowScripts\n",
            "> Task :installShadowDist\n",
            "\n",
            "> Task :runShadow\n",
            "WARNING: An illegal reflective access operation has occurred\n",
            "WARNING: Illegal reflective access by org.apache.beam.vendor.grpc.v1p36p0.com.google.protobuf.UnsafeUtil (file:/content/build/install/content-shadow/lib/WordCount.jar) to field java.nio.Buffer.address\n",
            "WARNING: Please consider reporting this to the maintainers of org.apache.beam.vendor.grpc.v1p36p0.com.google.protobuf.UnsafeUtil\n",
            "WARNING: Use --illegal-access=warn to enable warnings of further illegal reflective access operations\n",
            "WARNING: All illegal access operations will be denied in a future release\n",
            "Mar 04, 2019 11:01:26 PM org.apache.beam.sdk.io.FileBasedSource getEstimatedSizeBytes\n",
            "INFO: Filepattern data/* matched 1 files with total size 157283\n",
            "Mar 04, 2019 11:01:26 PM org.apache.beam.sdk.io.FileBasedSource split\n",
            "INFO: Splitting filepattern data/* into bundles of size 52427 took 1 ms and produced 1 files and 3 bundles\n",
            "Mar 04, 2019 11:01:46 PM org.apache.beam.sdk.io.WriteFiles$WriteShardsIntoTempFilesFn processElement\n",
            "INFO: Opening writer e2eeada2-5a8b-4493-acc5-c706204d9669 for window org.apache.beam.sdk.transforms.windowing.GlobalWindow@8c3619e pane PaneInfo{isFirst=true, isLast=true, timing=ON_TIME, index=0, onTimeIndex=0} destination null\n",
            "Mar 04, 2019 11:01:46 PM org.apache.beam.sdk.io.WriteFiles$WriteShardsIntoTempFilesFn processElement\n",
            "INFO: Opening writer 7acdc85e-ff7d-42d0-9b2f-9ce385956c0e for window org.apache.beam.sdk.transforms.windowing.GlobalWindow@8c3619e pane PaneInfo{isFirst=true, isLast=true, timing=ON_TIME, index=0, onTimeIndex=0} destination null\n",
            "Mar 04, 2019 11:01:46 PM org.apache.beam.sdk.io.WriteFiles$WriteShardsIntoTempFilesFn processElement\n",
            "INFO: Opening writer d1a6a591-77f0-4994-affc-d83378e7b7c0 for window org.apache.beam.sdk.transforms.windowing.GlobalWindow@8c3619e pane PaneInfo{isFirst=true, isLast=true, timing=ON_TIME, index=0, onTimeIndex=0} destination null\n",
            "Mar 04, 2019 11:01:46 PM org.apache.beam.sdk.io.FileBasedSink$Writer close\n",
            "INFO: Successfully wrote temporary file /content/outputs/.temp-beam-2019-03-04_23-01-25-1/e2eeada2-5a8b-4493-acc5-c706204d9669\n",
            "Mar 04, 2019 11:01:46 PM org.apache.beam.sdk.io.FileBasedSink$Writer close\n",
            "INFO: Successfully wrote temporary file /content/outputs/.temp-beam-2019-03-04_23-01-25-1/7acdc85e-ff7d-42d0-9b2f-9ce385956c0e\n",
            "Mar 04, 2019 11:01:46 PM org.apache.beam.sdk.io.FileBasedSink$Writer close\n",
            "INFO: Successfully wrote temporary file /content/outputs/.temp-beam-2019-03-04_23-01-25-1/d1a6a591-77f0-4994-affc-d83378e7b7c0\n",
            "Mar 04, 2019 11:01:46 PM org.apache.beam.sdk.io.WriteFiles$FinalizeTempFileBundles$FinalizeFn process\n",
            "INFO: Finalizing 3 file results\n",
            "Mar 04, 2019 11:01:46 PM org.apache.beam.sdk.io.FileBasedSink$WriteOperation createMissingEmptyShards\n",
            "INFO: Finalizing for destination null num shards 3.\n",
            "Mar 04, 2019 11:01:46 PM org.apache.beam.sdk.io.FileBasedSink$WriteOperation moveToOutputFiles\n",
            "INFO: Will copy temporary file FileResult{tempFilename=/content/outputs/.temp-beam-2019-03-04_23-01-25-1/7acdc85e-ff7d-42d0-9b2f-9ce385956c0e, shard=2, window=org.apache.beam.sdk.transforms.windowing.GlobalWindow@8c3619e, paneInfo=PaneInfo{isFirst=true, isLast=true, timing=ON_TIME, index=0, onTimeIndex=0}} to final location /content/outputs/part-00002-of-00003\n",
            "Mar 04, 2019 11:01:46 PM org.apache.beam.sdk.io.FileBasedSink$WriteOperation moveToOutputFiles\n",
            "INFO: Will copy temporary file FileResult{tempFilename=/content/outputs/.temp-beam-2019-03-04_23-01-25-1/e2eeada2-5a8b-4493-acc5-c706204d9669, shard=0, window=org.apache.beam.sdk.transforms.windowing.GlobalWindow@8c3619e, paneInfo=PaneInfo{isFirst=true, isLast=true, timing=ON_TIME, index=0, onTimeIndex=0}} to final location /content/outputs/part-00000-of-00003\n",
            "Mar 04, 2019 11:01:46 PM org.apache.beam.sdk.io.FileBasedSink$WriteOperation moveToOutputFiles\n",
            "INFO: Will copy temporary file FileResult{tempFilename=/content/outputs/.temp-beam-2019-03-04_23-01-25-1/d1a6a591-77f0-4994-affc-d83378e7b7c0, shard=1, window=org.apache.beam.sdk.transforms.windowing.GlobalWindow@8c3619e, paneInfo=PaneInfo{isFirst=true, isLast=true, timing=ON_TIME, index=0, onTimeIndex=0}} to final location /content/outputs/part-00001-of-00003\n",
            "Mar 04, 2019 11:01:46 PM org.apache.beam.sdk.io.FileBasedSink$WriteOperation removeTemporaryFiles\n",
            "INFO: Will remove known temporary file /content/outputs/.temp-beam-2019-03-04_23-01-25-1/e2eeada2-5a8b-4493-acc5-c706204d9669\n",
            "Mar 04, 2019 11:01:46 PM org.apache.beam.sdk.io.FileBasedSink$WriteOperation removeTemporaryFiles\n",
            "INFO: Will remove known temporary file /content/outputs/.temp-beam-2019-03-04_23-01-25-1/7acdc85e-ff7d-42d0-9b2f-9ce385956c0e\n",
            "Mar 04, 2019 11:01:46 PM org.apache.beam.sdk.io.FileBasedSink$WriteOperation removeTemporaryFiles\n",
            "INFO: Will remove known temporary file /content/outputs/.temp-beam-2019-03-04_23-01-25-1/d1a6a591-77f0-4994-affc-d83378e7b7c0\n",
            "Mar 04, 2019 11:01:46 PM org.apache.beam.sdk.io.FileBasedSink$WriteOperation removeTemporaryFiles\n",
            "WARNING: Failed to match temporary files under: [/content/outputs/.temp-beam-2019-03-04_23-01-25-1/].\n",
            "\n",
            "BUILD SUCCESSFUL in 33s\n",
            "5 actionable tasks: 5 executed\n",
            "\u001b[m\n",
            ">> head -n 20 outputs/part-00000-of-*\n",
            "==> outputs/part-00000-of-00001 <==\n",
            "(u'canker', 1)\n",
            "(u'bounty', 2)\n",
            "(u'provision', 3)\n",
            "(u'to', 438)\n",
            "(u'terms', 2)\n",
            "(u'unnecessary', 2)\n",
            "(u'tongue', 5)\n",
            "(u'knives', 1)\n",
            "(u'Commend', 1)\n",
            "(u'Hum', 2)\n",
            "(u'Set', 2)\n",
            "(u'smell', 6)\n",
            "(u'dreadful', 3)\n",
            "(u'frowning', 1)\n",
            "(u'World', 1)\n",
            "(u'tike', 1)\n",
            "(u'yes', 3)\n",
            "(u'oldness', 1)\n",
            "(u'boat', 1)\n",
            "(u\"in's\", 1)\n",
            "\n",
            "==> outputs/part-00000-of-00003 <==\n",
            "wrath: 3\n",
            "nicely: 2\n",
            "hall: 1\n",
            "Sure: 2\n",
            "legs: 4\n",
            "ten: 1\n",
            "yourselves: 1\n",
            "embossed: 1\n",
            "poorly: 1\n",
            "temper: 2\n",
            "Dismissing: 1\n",
            "Legitimate: 1\n",
            "tyrannous: 1\n",
            "turn: 13\n",
            "gold: 2\n",
            "minds: 1\n",
            "dowers: 2\n",
            "policy: 1\n",
            "I: 708\n",
            "V: 6\n",
            "\n",
            "==> outputs/part-00000-of-00004 <==\n",
            "retinue: 1\n",
            "stink: 1\n",
            "beaks: 1\n",
            "Ten: 1\n",
            "riots: 2\n",
            "Service: 1\n",
            "dealing: 1\n",
            "stop: 2\n",
            "detain: 1\n",
            "beware: 1\n",
            "pilferings: 1\n",
            "swimming: 1\n",
            "The: 124\n",
            "Been: 1\n",
            "behavior: 1\n",
            "impetuous: 1\n",
            "Thy: 20\n",
            "Tis: 24\n",
            "Soldiers: 7\n",
            "Juno: 1\n",
            "\n"
          ],
          "name": "stdout"
        }
      ]
    }
  ]
}